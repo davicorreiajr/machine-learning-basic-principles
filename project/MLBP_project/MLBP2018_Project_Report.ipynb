{
 "cells": [
  {
   "cell_type": "markdown",
   "metadata": {
    "colab_type": "text",
    "id": "OOfcq9lLSCCj"
   },
   "source": [
    "**Machine Learning Basic Principles 2018 - Data Analysis Project Report**"
   ]
  },
  {
   "cell_type": "markdown",
   "metadata": {
    "colab_type": "text",
    "id": "tQbIkSZNSCCt"
   },
   "source": [
    "# *Title* "
   ]
  },
  {
   "cell_type": "markdown",
   "metadata": {
    "colab_type": "text",
    "id": "rmZiKClsSCC0"
   },
   "source": [
    "Linear and Logistic regression in classification of music genres\n",
    "\n",
    "\n"
   ]
  },
  {
   "cell_type": "markdown",
   "metadata": {
    "colab_type": "text",
    "id": "ZZ7_3TPmSCC5"
   },
   "source": [
    "## Abstract"
   ]
  },
  {
   "cell_type": "markdown",
   "metadata": {
    "colab_type": "text",
    "id": "nhVf4XfnSCC8"
   },
   "source": [
    "After applying some cleaning of the data, removing columns with the same value, we managed to apply standardization or normalization and watched the difference with two different algorithms, logistic regression and linear regression.\n",
    "\n",
    "Before doing that, we plotted the error for PCA and decided to keep 220 features, but even 200 features only is a good option since the error is very small.\n",
    "\n",
    "We found out that the difference with Linear Regression and Logistic Regression is very little, the major difference is between standardization and normalization, with the latter being the most effective."
   ]
  },
  {
   "cell_type": "markdown",
   "metadata": {
    "colab_type": "text",
    "id": "uZzz_WxdSCC_"
   },
   "source": [
    "## 1. Introduction"
   ]
  },
  {
   "cell_type": "markdown",
   "metadata": {
    "colab_type": "text",
    "id": "2z9r-4MGSCDF"
   },
   "source": [
    "The task is to build a predictor that can classify songs into 10 different music genres using features suchs as Rhythm Pattern, Chorma and MFCCs obtained from a sample of the song audio signal.\n",
    "\n",
    "This objective is difficult, because the difference between different musical styles sometimes may be very subtle, and that is why the task is being simplified using only 10 music genres.\n",
    "\n",
    "Our mission is important because it has many application for automatical genre recognition in applications such as Spotify, Shazam, SoundCloud etc. or simply having a database that can shuffle the songs based on the genre on your own media centre.\n",
    "\n",
    "Although there are already some good projects with the same aim such as \"DeepSound\" that uses Deep Neural Networks, we decided to take a different approach and we tested different algorithms suchs as Linear and Logistic Regression, because we thought that they could do a pretty decent job without taking too much CPU time.\n",
    "\n",
    "\n",
    "\n"
   ]
  },
  {
   "cell_type": "markdown",
   "metadata": {
    "colab_type": "text",
    "id": "ZTNW5dtQSCDK"
   },
   "source": [
    "## 2. Data analysis"
   ]
  },
  {
   "cell_type": "code",
   "execution_count": 111,
   "metadata": {
    "colab": {},
    "colab_type": "code",
    "id": "GaaCh3Y9a1TI"
   },
   "outputs": [],
   "source": [
    "from math import log\n",
    "import pandas as pd\n",
    "import numpy as np\n",
    "import matplotlib.pyplot as plt\n",
    "from numpy import linalg as la\n",
    "from sklearn.model_selection import train_test_split\n",
    "from sklearn.metrics import confusion_matrix\n",
    "from sklearn.metrics import log_loss\n",
    "from sklearn.preprocessing import StandardScaler\n",
    "from sklearn.preprocessing import MinMaxScaler\n",
    "import itertools\n",
    "\n",
    "#!pip install -U -q PyDrive"
   ]
  },
  {
   "cell_type": "code",
   "execution_count": 112,
   "metadata": {
    "colab": {
     "base_uri": "https://localhost:8080/",
     "height": 659
    },
    "colab_type": "code",
    "id": "TN7n0paoSCDS",
    "outputId": "c0f3186d-aee4-4c5e-d7f7-03f46d11d5e3"
   },
   "outputs": [
    {
     "name": "stdout",
     "output_type": "stream",
     "text": [
      "Train data shape is  (4363, 264)\n",
      "Train label shape is  (4363, 1)\n",
      "Test data shape is  (6544, 264)\n",
      "Label 1 has 2178 songs\n",
      "Label 2 has 618 songs\n",
      "Label 3 has 326 songs\n",
      "Label 4 has 253 songs\n",
      "Label 5 has 214 songs\n",
      "Label 6 has 260 songs\n",
      "Label 7 has 141 songs\n",
      "Label 8 has 195 songs\n",
      "Label 9 has 92 songs\n",
      "Label 10 has 86 songs\n"
     ]
    },
    {
     "data": {
      "image/png": "[encoded data removed]",
      "text/plain": [
       "<Figure size 432x288 with 1 Axes>"
      ]
     },
     "metadata": {},
     "output_type": "display_data"
    },
    {
     "name": "stdout",
     "output_type": "stream",
     "text": [
      "As we can see from the instogram, the train data is strongly unbalanced\n",
      "toward Label 1, but oversampling didn't improve our accuracy so we decided\n",
      "to remove it from the code.\n"
     ]
    }
   ],
   "source": [
    "#### GET DATA\n",
    "\n",
    "df_data = pd.read_csv('data/train_data.csv', header=None)\n",
    "print(\"Train data shape is \", df_data.shape)\n",
    "\n",
    "df_labels = pd.read_csv('data/train_labels.csv', header=None)\n",
    "print(\"Train label shape is \", df_labels.shape)\n",
    "\n",
    "df_test_data = pd.read_csv('data/test_data.csv', header=None)\n",
    "print(\"Test data shape is \", df_test_data.shape)\n",
    "\n",
    "grouped = df_labels.groupby(by=0)\n",
    "for name, group in grouped:\n",
    "    print(\"Label %d has %d songs\" % (name, group.size))\n",
    "\n",
    "labels = df_labels.values\n",
    "\n",
    "graph = plt.hist(labels, bins=19)\n",
    "\n",
    "plt.xlim((1, 10))\n",
    "plt.ylim((0,2500))\n",
    "plt.ylabel('No of labels')\n",
    "plt.xlabel('labels')\n",
    "\n",
    "plt.show(graph)\n",
    "\n",
    "print(\"As we can see from the instogram, the train data is strongly unbalanced\\n\" \n",
    "      \"toward Label 1, but oversampling didn't improve our accuracy so we decided\\n\" \n",
    "      \"to remove it from the code.\")"
   ]
  },
  {
   "cell_type": "code",
   "execution_count": 113,
   "metadata": {
    "colab": {},
    "colab_type": "code",
    "id": "EdgbNXJGbKqx"
   },
   "outputs": [],
   "source": [
    "###### DATA\n",
    "\n",
    "def get_train_set_splited(df_train_data, df_train_labels, test_size = 1./7.):\n",
    "    df_train_set, df_val_set, df_train_lbl, df_val_lbl = train_test_split(df_train_data, df_train_labels, test_size = test_size, random_state = 0)\n",
    "    return df_train_set.values, df_train_lbl.values, df_val_set.values, df_val_lbl.values\n",
    "\n",
    "\n",
    "def remove_columns(df_data, indexes):\n",
    "    new_values = np.delete(df_data.values, indexes, 1)\n",
    "    return pd.DataFrame(new_values)"
   ]
  },
  {
   "cell_type": "code",
   "execution_count": 114,
   "metadata": {
    "colab": {},
    "colab_type": "code",
    "id": "A34xDnfJJEoo"
   },
   "outputs": [],
   "source": [
    "######### PCA\n",
    "\n",
    "def make_tuples(first_array, second_array):\n",
    "    n = len(first_array)\n",
    "    \n",
    "    tuples = []\n",
    "    for i in range(n):\n",
    "        tuples.append((first_array[i], second_array[i]))\n",
    "        \n",
    "    return tuples\n",
    "\n",
    "def get_pca(raw_data, number_of_components):\n",
    "    N = raw_data.shape[0]\n",
    "    raw_data_transpose = raw_data.transpose()\n",
    "    Q = (1./N) * np.dot(raw_data_transpose, raw_data)\n",
    "\n",
    "    eigenvalues, eigenvectors = la.eig(Q)\n",
    "    \n",
    "    tuples = make_tuples(eigenvalues, eigenvectors.transpose())\n",
    "    ordered_tuples = sorted(tuples, reverse = True, key = lambda item: item[0])\n",
    "    \n",
    "    pca = []\n",
    "    for i in range(number_of_components):\n",
    "        pca.append(ordered_tuples[i][1])\n",
    "        \n",
    "    pca = np.array(pca)\n",
    "    \n",
    "    map_tuples_to_eigenvalues = map(lambda item: item[0], ordered_tuples)\n",
    "    \n",
    "    return pca.real, np.array(list(map_tuples_to_eigenvalues))\n",
    "\n",
    "def plot_pca_error(eigvalues, number_of_components):\n",
    "    x = range(1, number_of_components + 1)\n",
    "    errors = [sum(eigvalues[d:]) for d in x]\n",
    "    plt.plot(x, errors)\n",
    "    plt.xlabel('Number of principal components $d$')\n",
    "    plt.ylabel('Reconstruction error $\\mathcal{E}$')\n",
    "    plt.title('Number of principal components vs the reconstruction error')\n",
    "    plt.show()\n",
    "      "
   ]
  },
  {
   "cell_type": "code",
   "execution_count": 115,
   "metadata": {
    "colab": {},
    "colab_type": "code",
    "id": "8NkyO84LbwGK"
   },
   "outputs": [],
   "source": [
    "###### LABELS\n",
    "\n",
    "def get_labeled_array(label, labels):\n",
    "    N = labels.shape[0]\n",
    "    y = np.zeros((N, 1))\n",
    "        \n",
    "    for index in range(N):\n",
    "        if labels[index][0] == label: \n",
    "            y[index][0] = 1\n",
    "    \n",
    "    return y\n",
    "\n",
    "def get_predicted_labels(probabilities):\n",
    "    N = probabilities.shape[0]\n",
    "    predicted_labels = np.zeros((N, 1))\n",
    "\n",
    "    for i in range(N):\n",
    "        index_of_max_value = np.argmax(probabilities[i])\n",
    "        predicted_labels[i] = index_of_max_value + 1\n",
    "        \n",
    "    return predicted_labels\n",
    "\n",
    "def calculate_accuracy(actual_labels, predicted_labels):\n",
    "    width, height = actual_labels.shape\n",
    "    result = actual_labels - predicted_labels\n",
    "    zeros = np.count_nonzero(result == 0)\n",
    "    N = width * height\n",
    "    accuracy = zeros / N\n",
    "    return accuracy * 100\n",
    "  \n",
    "def calculate_log_loss_accuracy(actual_labels, probabilites):\n",
    "    N = actual_labels.size    \n",
    "    tmp_sum = 0\n",
    "    \n",
    "    for i in range(N):\n",
    "      tmp_sum += log(probabilites[i][int(actual_labels[i]) - 1]) \n",
    "    \n",
    "    \n",
    "    log_loss_accuracy = tmp_sum * -1/N\n",
    "    return log_loss_accuracy"
   ]
  },
  {
   "cell_type": "code",
   "execution_count": 116,
   "metadata": {
    "colab": {},
    "colab_type": "code",
    "id": "hQTSnI31cM3a"
   },
   "outputs": [],
   "source": [
    "######### LOGISTIC REGRESSION\n",
    "\n",
    "def sigmoid(z):\n",
    "    return np.divide(1, (1 + np.exp((-1) * z)))\n",
    "\n",
    "\n",
    "def derivative_sigmoid(z):\n",
    "    return np.multiply(np.exp(-z), np.power(sigmoid(z), 2))\n",
    "\n",
    "\n",
    "def gradient_logistic_regression(X, y, w):\n",
    "    N = X.shape[0]\n",
    "    z = np.dot(X, w)\n",
    "    sigmoid_z = sigmoid(z)\n",
    "    derivative_sigmoid_z = derivative_sigmoid(z)\n",
    "    \n",
    "    first_term = np.multiply(y, np.divide(derivative_sigmoid(z), sigmoid(z)))\n",
    "    second_term = np.multiply(1 - y, np.divide((-1) * derivative_sigmoid(z), (1 - sigmoid(z))))\n",
    "    \n",
    "    sum = first_term + second_term\n",
    "    return (-1 / N) * np.dot(np.transpose(X), sum)\n",
    "\n",
    "\n",
    "def empirical_risk_logistic_regression(X, y, w):\n",
    "    z = np.dot(X, w)\n",
    "\n",
    "    first_term = np.multiply(y, np.log(sigmoid(z)))\n",
    "    second_term = np.multiply(1 - y, np.log(1 - sigmoid(z)))\n",
    "    \n",
    "    sum = first_term + second_term\n",
    "    return (-1) * np.mean(sum)\n",
    "\n",
    "\n",
    "def predicted_probabilities_regression(X, w):\n",
    "    y = np.dot(X, w)\n",
    "    return sigmoid(y)"
   ]
  },
  {
   "cell_type": "code",
   "execution_count": 117,
   "metadata": {
    "colab": {},
    "colab_type": "code",
    "id": "nPhgCu-pcO9e"
   },
   "outputs": [],
   "source": [
    "###### LINEAR REGRESSION\n",
    "\n",
    "def gradient_linear_regression(X, y, w):\n",
    "    N = X.shape[0]\n",
    "    X_transposed = np.transpose(X)\n",
    "    final_matrix = np.dot(X_transposed, y - np.dot(X, w))\n",
    "    gradient = (-2. / N) * final_matrix\n",
    "    return gradient\n",
    "\n",
    "def empirical_risk_linear_regression(X, y, w):\n",
    "    sum = np.power((y - np.dot(X, w)), 2)\n",
    "    return np.mean(sum)"
   ]
  },
  {
   "cell_type": "code",
   "execution_count": 118,
   "metadata": {
    "colab": {},
    "colab_type": "code",
    "id": "M5jLl5B6clZW"
   },
   "outputs": [],
   "source": [
    "###### REGRESSION\n",
    "\n",
    "def regression(X, y, step_size, iterations, gradient, empirical_risk):\n",
    "    d = X.shape[1]\n",
    "    w = np.zeros((d, 1))\n",
    "    loss_list = []\n",
    "\n",
    "    for i in range(iterations):\n",
    "        grad = gradient(X, y, w)\n",
    "        w = w - step_size * grad\n",
    "        loss_list.append(empirical_risk(X, y, w))\n",
    "\n",
    "    return loss_list, w\n",
    "\n",
    "def get_w_opt_regression(X, train_labels_values, gradient, empirical_risk, step_size = 1e-5, iterations = 3000):\n",
    "    N = X.shape[0]\n",
    "    d = X.shape[1]\n",
    "    labels = [1, 2, 3, 4, 5, 6, 7, 8, 9, 10]\n",
    "    quantity_of_labels = len(labels)\n",
    "\n",
    "    y = np.zeros((N, quantity_of_labels))\n",
    "    w = np.zeros((d, quantity_of_labels))\n",
    "    \n",
    "    for i in range(quantity_of_labels):\n",
    "        y_subproblem = get_labeled_array(i+1, train_labels_values)\n",
    "        loss_list_subproblem, w_subproblem = regression(X, y_subproblem, step_size, iterations, gradient, empirical_risk)\n",
    "    \n",
    "        w[:, i:i+1] = w_subproblem\n",
    "        y[:, i:i+1] = y_subproblem\n",
    "    \n",
    "    return w"
   ]
  },
  {
   "cell_type": "code",
   "execution_count": 119,
   "metadata": {
    "colab": {},
    "colab_type": "code",
    "id": "ga6MbBj7elR9"
   },
   "outputs": [],
   "source": [
    "#### CLEAN DATA\n",
    "columns_to_remove = [216, 217, 218, 219] #These columns have all the same value\n",
    "df_data = remove_columns(df_data, columns_to_remove)\n",
    "df_test_data = remove_columns(df_test_data, columns_to_remove)\n",
    "\n",
    "train_data, train_labels, val_data, val_labels = get_train_set_splited(df_data, df_labels, test_size = 0.25)"
   ]
  },
  {
   "cell_type": "code",
   "execution_count": 120,
   "metadata": {
    "colab": {},
    "colab_type": "code",
    "id": "PdPeO_gHenDe"
   },
   "outputs": [],
   "source": [
    "#### STANDARDIZATION\n",
    "scaler = StandardScaler()\n",
    "\n",
    "df_train_data = pd.DataFrame(train_data)\n",
    "\n",
    "scaler.fit(df_train_data)\n",
    "\n",
    "X = scaler.transform(df_train_data)\n",
    "val_data = scaler.transform(pd.DataFrame(val_data))\n",
    "test_data = scaler.transform(df_test_data)\n",
    "confusion_matrix_data = scaler.transform(df_data)"
   ]
  },
  {
   "cell_type": "code",
   "execution_count": 108,
   "metadata": {
    "colab": {},
    "colab_type": "code",
    "id": "Eov1bEGveqId"
   },
   "outputs": [],
   "source": [
    "#### NORMALIZATION\n",
    "scaler = MinMaxScaler()\n",
    "\n",
    "df_train_data = pd.DataFrame(train_data)\n",
    "\n",
    "scaler.fit(df_train_data)\n",
    "\n",
    "X = scaler.transform(df_train_data)\n",
    "val_data = scaler.transform(pd.DataFrame(val_data))\n",
    "test_data = scaler.transform(df_test_data)\n",
    "confusion_matrix_data = scaler.transform(df_data)"
   ]
  },
  {
   "cell_type": "code",
   "execution_count": 121,
   "metadata": {
    "colab": {},
    "colab_type": "code",
    "id": "zBLn6Srrerxk"
   },
   "outputs": [],
   "source": [
    "#### APPLY PCA\n",
    "number_of_pca_components = 220\n",
    "\n",
    "pca, eigenvalues = get_pca(X, number_of_pca_components)\n",
    "X = np.dot(X, pca.transpose())\n",
    "val_data = np.dot(val_data, pca.transpose())\n",
    "test_data = np.dot(test_data, pca.transpose())\n",
    "confusion_matrix_data = np.dot(confusion_matrix_data, pca.transpose())"
   ]
  },
  {
   "cell_type": "code",
   "execution_count": 110,
   "metadata": {
    "colab": {
     "base_uri": "https://localhost:8080/",
     "height": 35
    },
    "colab_type": "code",
    "id": "i-VewZBmetmx",
    "outputId": "754e774f-0df1-4e8f-dbdc-5298a9853d0e"
   },
   "outputs": [
    {
     "name": "stdout",
     "output_type": "stream",
     "text": [
      "Accuracy of logistic regression is  63.06141154903758\n",
      "Log loss of logistic regression is  1.2410571949118583\n"
     ]
    }
   ],
   "source": [
    "#### RUN LOGISTIC REGRESSION TIME NEEDED ~2 mins\n",
    "w_opt = get_w_opt_regression(X, train_labels, gradient_logistic_regression, empirical_risk_logistic_regression,\n",
    "                             step_size = 0.1, iterations = 3000)\n",
    "\n",
    "probabilities = predicted_probabilities_regression(val_data, w_opt)\n",
    "predicted_labels = get_predicted_labels(probabilities)\n",
    "accuracy = calculate_accuracy(val_labels, predicted_labels)\n",
    "log_loss_accuracy = calculate_log_loss_accuracy(val_labels, probabilities)\n",
    "\n",
    "print(\"Accuracy of logistic regression is \", accuracy)\n",
    "print(\"Log loss of logistic regression is \", log_loss_accuracy)"
   ]
  },
  {
   "cell_type": "code",
   "execution_count": 122,
   "metadata": {
    "colab": {
     "base_uri": "https://localhost:8080/",
     "height": 35
    },
    "colab_type": "code",
    "id": "doqjG1jHewE5",
    "outputId": "d5b140bf-fe3e-4cd2-ef7e-7028cc636383"
   },
   "outputs": [
    {
     "name": "stdout",
     "output_type": "stream",
     "text": [
      "Accuracy of linear regression is  58.57011915673694\n",
      "Log loss of linear regression is  0.6017758393977037\n"
     ]
    }
   ],
   "source": [
    "#### RUN LINEAR REGRESSION TIME NEEDED ~40 secs\n",
    "w_opt = get_w_opt_regression(X, train_labels, gradient_linear_regression, empirical_risk_linear_regression,\n",
    "                             step_size = 0.01, iterations = 3000)\n",
    "\n",
    "probabilities = predicted_probabilities_regression(val_data, w_opt)\n",
    "predicted_labels = get_predicted_labels(probabilities)\n",
    "accuracy = calculate_accuracy(val_labels, predicted_labels)\n",
    "log_loss_accuracy = calculate_log_loss_accuracy(val_labels, probabilities)\n",
    "\n",
    "print(\"Accuracy of linear regression is \", accuracy)\n",
    "print(\"Log loss of linear regression is \", log_loss_accuracy)"
   ]
  },
  {
   "cell_type": "code",
   "execution_count": 14,
   "metadata": {
    "colab": {},
    "colab_type": "code",
    "id": "PeA3Smz7exxe"
   },
   "outputs": [],
   "source": [
    "#### PROBABILITIES FOR LOGISTIC REGRESSION\n",
    "test_probabilities = predicted_probabilities_regression(test_data, w_opt)"
   ]
  },
  {
   "cell_type": "code",
   "execution_count": 0,
   "metadata": {
    "colab": {},
    "colab_type": "code",
    "id": "5pJRvIfMeyVK"
   },
   "outputs": [],
   "source": [
    "#### PROBABILITIES FOR LINEAR REGRESSION\n",
    "test_probabilities = predicted_probabilities_regression(test_data, w_opt)"
   ]
  },
  {
   "cell_type": "code",
   "execution_count": 15,
   "metadata": {
    "colab": {},
    "colab_type": "code",
    "id": "huVpvqlYezy_"
   },
   "outputs": [],
   "source": [
    "#### GETTING PREDICTED LABELS FOR TEST DATA\n",
    "predicted_test_labels = get_predicted_labels(test_probabilities).astype(int)\n",
    "\n",
    "\n",
    "#### FILE FOR ACCURACY CHALLENGE\n",
    "ids = np.arange(1, len(predicted_test_labels) + 1)\n",
    "df_submission_accuracy = pd.DataFrame({\"Sample_id\" : ids, \"Sample_label\" : predicted_test_labels.flatten()})\n",
    "df_submission_accuracy.to_csv(\"accuracy_challenge.csv\", index=False)\n",
    "\n",
    "#### FILE FOR LOGLOSS CHALLENGE\n",
    "ids = np.arange(1, len(predicted_test_labels) + 1)\n",
    "df_submission_logloss = pd.DataFrame(\n",
    "    {\n",
    "        \"Sample_id\": ids,\n",
    "        \"Class_1\": test_probabilities[:,0],\n",
    "        \"Class_2\": test_probabilities[:,1],\n",
    "        \"Class_3\": test_probabilities[:,2],\n",
    "        \"Class_4\": test_probabilities[:,3],\n",
    "        \"Class_5\": test_probabilities[:,4],\n",
    "        \"Class_6\": test_probabilities[:,5],\n",
    "        \"Class_7\": test_probabilities[:,6],\n",
    "        \"Class_8\": test_probabilities[:,7],\n",
    "        \"Class_9\": test_probabilities[:,8],\n",
    "        \"Class_10\": test_probabilities[:,9]\n",
    "    }\n",
    ")\n",
    "df_submission_logloss.to_csv(\"logloss_challenge.csv\", index=False)"
   ]
  },
  {
   "cell_type": "markdown",
   "metadata": {
    "colab_type": "text",
    "id": "QsRZ-tN9SCDz"
   },
   "source": [
    "## 3. Methods and experiments"
   ]
  },
  {
   "cell_type": "markdown",
   "metadata": {
    "colab_type": "text",
    "id": "ITRuOKdFSCD2"
   },
   "source": [
    "Even if there are some functions that are ready out of the box from scikit-learn for logistic and linear regression, we decided to implement our own version; this decision gave us a tiny penalty in the accuracy on kaggle, but it is much better in order to have a clear view on how the algorithms actually work.\n",
    "\n",
    "We chose linear and logistic regression because they are easy to implement, and they are not that bad in terms of accuracy.\n",
    "\n",
    "To evaluate and compare accuracy we tried different runs mixing standardization and normalization with Linear and Logistic Regression\n",
    "\n",
    "\n",
    "\n",
    "![Imgur](https://i.imgur.com/P1LlLHE.png)\n"
   ]
  },
  {
   "cell_type": "markdown",
   "metadata": {
    "colab_type": "text",
    "id": "JKHi-91nSCEE"
   },
   "source": [
    "## 4. Results"
   ]
  },
  {
   "cell_type": "markdown",
   "metadata": {
    "colab_type": "text",
    "id": "RMP5oHYKSCEH"
   },
   "source": [
    "Speaking of how our accuracy and log-loss compare in kaggle in respect to the training data set, they are quite similar only for the accuracy, with a slight difference of 1 point; with the logloss we have a huge difference but it is performing better on kaggle than our train set, so it is something positive."
   ]
  },
  {
   "cell_type": "code",
   "execution_count": 130,
   "metadata": {
    "colab": {
     "base_uri": "https://localhost:8080/",
     "height": 558
    },
    "colab_type": "code",
    "id": "hP8qiraXSCEJ",
    "outputId": "440ee870-8952-41df-b2ad-dc40a07484a9"
   },
   "outputs": [
    {
     "name": "stdout",
     "output_type": "stream",
     "text": [
      "ACCURACY LOGISTIC REGRESSION WITH NORMALIZATION: 63.06141\n",
      "ACCURACY LOGISTIC REGRESSION WITH STANDARDIZATION : 58.38680\n",
      "ACCURACY LINEAR REGRESSION WITH NORMALIZATION: 62.32814\n",
      "ACCURACY LINEAR REGRESSION WITH STANDARDIZATION : 58.57012\n",
      "LOG LOSS LOGISTIC REGRESSION WITH NORMALIZATION : 1.24106\n",
      "LOG LOSS LOGISTIC REGRESSION WITH STANDARDIZATION : 0.43905\n",
      "LOG LOSS LINEAR REGRESSION WITH NORMALIZATION: 0.50422\n",
      "LOG LOSS LINEAR REGRESSION WITH STANDARDIZATION: 0.60178 \n",
      "\n"
     ]
    },
    {
     "data": {
      "image/png": "[encoded data removed]",
      "text/plain": [
       "<Figure size 432x288 with 2 Axes>"
      ]
     },
     "metadata": {},
     "output_type": "display_data"
    }
   ],
   "source": [
    "#Confusion matrix ...\n",
    "\n",
    "def plot_confusion_matrix(cm, classes, normalize=False, title='Confusion matrix', cmap=plt.cm.Blues):\n",
    "   \n",
    "    \n",
    "    cm = cm.astype('float') / cm.sum(axis=1)[:, np.newaxis]\n",
    "        \n",
    "    plt.imshow(cm, interpolation='nearest', cmap=cmap)\n",
    "    plt.title(title)\n",
    "    plt.colorbar()\n",
    "    tick_marks = np.arange(len(classes))\n",
    "    plt.xticks(tick_marks, classes, rotation=45)\n",
    "    plt.yticks(tick_marks, classes)\n",
    "\n",
    "    fmt = '.2f' if normalize else 'd'\n",
    "    thresh = cm.max() / 2.\n",
    "    for i, j in itertools.product(range(cm.shape[0]), range(cm.shape[1])):\n",
    "        plt.text(j, i, format(cm[i, j], fmt),horizontalalignment=\"center\", color=\"white\" if cm[i, j] > thresh else \"black\")\n",
    "\n",
    "    plt.ylabel('True label')\n",
    "    plt.xlabel('Predicted label')\n",
    "    \n",
    "\n",
    "print(\"ACCURACY LOGISTIC REGRESSION WITH NORMALIZATION: 63.06141\")\n",
    "print(\"ACCURACY LOGISTIC REGRESSION WITH STANDARDIZATION : 58.38680\")\n",
    "print(\"ACCURACY LINEAR REGRESSION WITH NORMALIZATION: 62.32814\")   \n",
    "print(\"ACCURACY LINEAR REGRESSION WITH STANDARDIZATION : 58.57012\") \n",
    "\n",
    "print(\"LOG LOSS LOGISTIC REGRESSION WITH NORMALIZATION : 1.24106\")\n",
    "print(\"LOG LOSS LOGISTIC REGRESSION WITH STANDARDIZATION : 0.43905\")\n",
    "print(\"LOG LOSS LINEAR REGRESSION WITH NORMALIZATION: 0.50422\")   \n",
    "print(\"LOG LOSS LINEAR REGRESSION WITH STANDARDIZATION: 0.60178 \\n\")   \n",
    "\n",
    "class_names = ['Pop_Rock', 'Electronic', 'Rap', 'Jazz', 'Latin', 'RnB', 'International', 'Country', 'Reggae', 'Blues']\n",
    "    \n",
    "confusion_matrix_data_prob = predicted_probabilities_regression(confusion_matrix_data, w_opt) \n",
    "confusion_matrix_predicted_labels = get_predicted_labels(confusion_matrix_data_prob)\n",
    "\n",
    "# Compute confusion matrix\n",
    "cnf_matrix = confusion_matrix(df_labels, confusion_matrix_predicted_labels)\n",
    "np.set_printoptions(precision=2)\n",
    "\n",
    "# Plot normalized confusion matrix\n",
    "plt.figure()\n",
    "plot_confusion_matrix(cnf_matrix, normalize=True, classes=class_names, title='Confusion matrix with log regression and normalization')\n",
    "\n",
    "plt.show()\n"
   ]
  },
  {
   "cell_type": "markdown",
   "metadata": {
    "colab_type": "text",
    "id": "-HuLIEE3SCEU"
   },
   "source": [
    "## 5. Discussion/Conclusions"
   ]
  },
  {
   "cell_type": "markdown",
   "metadata": {
    "colab_type": "text",
    "id": "RoA-rNvqSCEX"
   },
   "source": [
    "We obtained the best result with Logistic Regression and Normalization, with a 62% accuracy on kaggle.\n",
    "We maybe could have improved the result by a ~5%/~10% using decision trees or neural networks and doing some more cleaning of the data.\n",
    "\n",
    "A future improvement could be understanding better what exactly are the features, to spot more outliers and increase the quality of the training; another improvement could be finding or building a nice oversampling algorithm, because SMOTE alone could generate synthethic new data, but since they will differ a little from one to another, they could jump from another genre to another, and we wanted a more clean oversampling. \n",
    "\n",
    "The study answered our question, Logistic Regression seems to work better but the difference is very little (~0.7 points difference on our training data).\n",
    "\n",
    "\n",
    "\n"
   ]
  },
  {
   "cell_type": "markdown",
   "metadata": {
    "colab_type": "text",
    "id": "qjXr5wvjSCEa"
   },
   "source": [
    "## 6. References"
   ]
  },
  {
   "cell_type": "markdown",
   "metadata": {
    "colab_type": "text",
    "id": "7WCuEQcQSCEd"
   },
   "source": [
    "DeepSound -> http://deepsound.io/music_genre_recognition.html"
   ]
  }
 ],
 "metadata": {
  "accelerator": "GPU",
  "colab": {
   "collapsed_sections": [],
   "name": "MLBP2018 Project Report.ipynb",
   "provenance": [],
   "toc_visible": true,
   "version": "0.3.2"
  },
  "kernelspec": {
   "display_name": "Python 3",
   "language": "python",
   "name": "python3"
  },
  "language_info": {
   "codemirror_mode": {
    "name": "ipython",
    "version": 3
   },
   "file_extension": ".py",
   "mimetype": "text/x-python",
   "name": "python",
   "nbconvert_exporter": "python",
   "pygments_lexer": "ipython3",
   "version": "3.6.5"
  }
 },
 "nbformat": 4,
 "nbformat_minor": 1
}
