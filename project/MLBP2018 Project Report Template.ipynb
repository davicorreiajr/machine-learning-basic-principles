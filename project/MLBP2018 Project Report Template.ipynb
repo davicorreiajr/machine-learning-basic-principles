{
 "cells": [
  {
   "cell_type": "markdown",
   "metadata": {
    "colab_type": "text",
    "id": "OOfcq9lLSCCj"
   },
   "source": [
    "**Machine Learning Basic Principles 2018 - Data Analysis Project Report**"
   ]
  },
  {
   "cell_type": "markdown",
   "metadata": {
    "colab_type": "text",
    "id": "i08EDdYxSCCo"
   },
   "source": [
    "*All the text in italics is instructions for filling the template - remove when writing the project report!*"
   ]
  },
  {
   "cell_type": "markdown",
   "metadata": {
    "colab_type": "text",
    "id": "tQbIkSZNSCCt"
   },
   "source": [
    "# *Title* "
   ]
  },
  {
   "cell_type": "markdown",
   "metadata": {
    "colab_type": "text",
    "id": "rmZiKClsSCC0"
   },
   "source": [
    "*Title should be concise and informative, describes the approach to solve the problem. Some good titles from previous years:*\n",
    "\n",
    "*- Comparing extreme learning machines and naive bayes’ classifier in spam detection*\n",
    "\n",
    "*- Using linear discriminant analysis in spam detection*\n",
    "\n",
    "*Some not-so-good titles:*\n",
    "\n",
    "*- Bayesian spam filtering with extras*\n",
    "\n",
    "*- Two-component classifier for spam detection*\n",
    "\n",
    "*- CS-E3210 Term Project, final report*\n",
    "\n",
    "\n"
   ]
  },
  {
   "cell_type": "markdown",
   "metadata": {
    "colab_type": "text",
    "id": "ZZ7_3TPmSCC5"
   },
   "source": [
    "## Abstract"
   ]
  },
  {
   "cell_type": "markdown",
   "metadata": {
    "colab_type": "text",
    "id": "nhVf4XfnSCC8"
   },
   "source": [
    "*Precise summary of the whole report, previews the contents and results. Must be a single paragraph between 100 and 200 words.*\n",
    "\n"
   ]
  },
  {
   "cell_type": "markdown",
   "metadata": {
    "colab_type": "text",
    "id": "uZzz_WxdSCC_"
   },
   "source": [
    "## 1. Introduction"
   ]
  },
  {
   "cell_type": "markdown",
   "metadata": {
    "colab_type": "text",
    "id": "2z9r-4MGSCDF"
   },
   "source": [
    "*Background, problem statement, motivation, many references, description of\n",
    "contents. Introduces the reader to the topic and the broad context within which your\n",
    "research/project fits*\n",
    "\n",
    "*- What do you hope to learn from the project?*\n",
    "*- What question is being addressed?*\n",
    "*- Why is this task important? (motivation)*\n",
    "\n",
    "*Keep it short (half to 1 page).*\n",
    "\n"
   ]
  },
  {
   "cell_type": "markdown",
   "metadata": {
    "colab_type": "text",
    "id": "ZTNW5dtQSCDK"
   },
   "source": [
    "## 2. Data analysis"
   ]
  },
  {
   "cell_type": "markdown",
   "metadata": {
    "colab_type": "text",
    "id": "Tgk9DmveSCDN"
   },
   "source": [
    "*Briefly describe data (class distribution, dimensionality) and how will it affect\n",
    "classification. Visualize the data. Don’t focus too much on the meaning of the features,\n",
    "unless you want to.*\n",
    "\n",
    "*- Include histograms showing class distribution.*\n",
    "\n"
   ]
  },
  {
   "cell_type": "code",
   "execution_count": 56,
   "metadata": {},
   "outputs": [],
   "source": [
    "from math import log\n",
    "import pandas as pd\n",
    "import numpy as np\n",
    "import matplotlib.pyplot as plt\n",
    "from numpy import linalg as la\n",
    "from sklearn.model_selection import train_test_split\n",
    "from sklearn.preprocessing import StandardScaler\n",
    "from sklearn.preprocessing import MinMaxScaler"
   ]
  },
  {
   "cell_type": "code",
   "execution_count": 2,
   "metadata": {},
   "outputs": [],
   "source": [
    "###### DATA\n",
    "\n",
    "def get_train_set_splited(df_train_data, df_train_labels, test_size = 1./7.):\n",
    "    df_train_set, df_val_set, df_train_lbl, df_val_lbl = train_test_split(df_train_data, df_train_labels, test_size = test_size, random_state = 0)\n",
    "    return df_train_set.values, df_train_lbl.values, df_val_set.values, df_val_lbl.values\n",
    "\n",
    "\n",
    "def remove_columns(df_data, indexes):\n",
    "    new_values = np.delete(df_data.values, indexes, 1)\n",
    "    return pd.DataFrame(new_values)"
   ]
  },
  {
   "cell_type": "code",
   "execution_count": 3,
   "metadata": {},
   "outputs": [],
   "source": [
    "######### PCA\n",
    "def make_tuples(first_array, second_array):\n",
    "    n = len(first_array)\n",
    "    \n",
    "    tuples = []\n",
    "    for i in range(n):\n",
    "        tuples.append((first_array[i], second_array[i]))\n",
    "        \n",
    "    return tuples\n",
    "\n",
    "def get_pca(raw_data, number_of_components):\n",
    "    N = raw_data.shape[0]\n",
    "    raw_data_transpose = raw_data.transpose()\n",
    "    Q = (1./N) * np.dot(raw_data_transpose, raw_data)\n",
    "\n",
    "    eigenvalues, eigenvectors = la.eig(Q)\n",
    "    \n",
    "    tuples = make_tuples(eigenvalues, eigenvectors.transpose())\n",
    "    ordered_tuples = sorted(tuples, reverse = True, key = lambda item: item[0])\n",
    "    \n",
    "    pca = []\n",
    "    for i in range(number_of_components):\n",
    "        pca.append(ordered_tuples[i][1])\n",
    "        \n",
    "    pca = np.array(pca)\n",
    "    \n",
    "    map_tuples_to_eigenvalues = map(lambda item: item[0], ordered_tuples)\n",
    "    \n",
    "    return pca.real, np.array(list(map_tuples_to_eigenvalues))"
   ]
  },
  {
   "cell_type": "code",
   "execution_count": 50,
   "metadata": {},
   "outputs": [],
   "source": [
    "###### LABELS\n",
    "\n",
    "def get_labeled_array(label, labels):\n",
    "    N = labels.shape[0]\n",
    "    y = np.zeros((N, 1))\n",
    "        \n",
    "    for index in range(N):\n",
    "        if labels[index][0] == label: \n",
    "            y[index][0] = 1\n",
    "    \n",
    "    return y\n",
    "\n",
    "def get_predicted_labels(probabilities):\n",
    "    N = probabilities.shape[0]\n",
    "    predicted_labels = np.zeros((N, 1))\n",
    "\n",
    "    for i in range(N):\n",
    "        index_of_max_value = np.argmax(probabilities[i])\n",
    "        predicted_labels[i] = index_of_max_value + 1\n",
    "        \n",
    "    return predicted_labels\n",
    "\n",
    "def calculate_accuracy(actual_labels, predicted_labels):\n",
    "    width, height = actual_labels.shape\n",
    "    result = actual_labels - predicted_labels\n",
    "    zeros = np.count_nonzero(result == 0)\n",
    "    N = width * height\n",
    "    accuracy = zeros / N\n",
    "    return accuracy * 100\n",
    "\n",
    "def calculate_log_loss_accuracy(actual_labels, probabilites):\n",
    "    N = actual_labels.size    \n",
    "    tmp_sum = 0\n",
    "    \n",
    "    for i in range(N):\n",
    "        tmp_sum += log(probabilites[i][int(actual_labels[i]) - 1]) \n",
    "    \n",
    "    log_loss_accuracy = tmp_sum * -1/N\n",
    "    return log_loss_accuracy"
   ]
  },
  {
   "cell_type": "code",
   "execution_count": 5,
   "metadata": {},
   "outputs": [],
   "source": [
    "######### LOGISTIC REGRESSION\n",
    "\n",
    "def sigmoid(z):\n",
    "    return np.divide(1, (1 + np.exp((-1) * z)))\n",
    "\n",
    "\n",
    "def derivative_sigmoid(z):\n",
    "    return np.multiply(np.exp(-z), np.power(sigmoid(z), 2))\n",
    "\n",
    "\n",
    "def gradient_logistic_regression(X, y, w):\n",
    "    N = X.shape[0]\n",
    "    z = np.dot(X, w)\n",
    "    sigmoid_z = sigmoid(z)\n",
    "    derivative_sigmoid_z = derivative_sigmoid(z)\n",
    "    \n",
    "    first_term = np.multiply(y, np.divide(derivative_sigmoid(z), sigmoid(z)))\n",
    "    second_term = np.multiply(1 - y, np.divide((-1) * derivative_sigmoid(z), (1 - sigmoid(z))))\n",
    "    \n",
    "    sum = first_term + second_term\n",
    "    return (-1 / N) * np.dot(np.transpose(X), sum)\n",
    "\n",
    "\n",
    "def empirical_risk_logistic_regression(X, y, w):\n",
    "    z = np.dot(X, w)\n",
    "\n",
    "    first_term = np.multiply(y, np.log(sigmoid(z)))\n",
    "    second_term = np.multiply(1 - y, np.log(1 - sigmoid(z)))\n",
    "    \n",
    "    sum = first_term + second_term\n",
    "    return (-1) * np.mean(sum)\n",
    "\n",
    "\n",
    "def predicted_probabilities_logistic_regresion(X, w):\n",
    "    y = np.dot(X, w)\n",
    "    return sigmoid(y)"
   ]
  },
  {
   "cell_type": "code",
   "execution_count": 6,
   "metadata": {},
   "outputs": [],
   "source": [
    "###### LINEAR REGRESSION\n",
    "\n",
    "def gradient_linear_regression(X, y, w):\n",
    "    N = X.shape[0]\n",
    "    X_transposed = np.transpose(X)\n",
    "    final_matrix = np.dot(X_transposed, y - np.dot(X, w))\n",
    "    gradient = (-2. / N) * final_matrix\n",
    "    return gradient\n",
    "\n",
    "def empirical_risk_linear_regression(X, y, w):\n",
    "    sum = np.power((y - np.dot(X, w)), 2)\n",
    "    return np.mean(sum)"
   ]
  },
  {
   "cell_type": "code",
   "execution_count": 7,
   "metadata": {},
   "outputs": [],
   "source": [
    "###### REGRESSION\n",
    "\n",
    "def regression(X, y, step_size, iterations, gradient, empirical_risk):\n",
    "    d = X.shape[1]\n",
    "    w = np.zeros((d, 1))\n",
    "    loss_list = []\n",
    "\n",
    "    for i in range(iterations):\n",
    "        grad = gradient(X, y, w)\n",
    "        w = w - step_size * grad\n",
    "        loss_list.append(empirical_risk(X, y, w))\n",
    "\n",
    "    return loss_list, w\n",
    "\n",
    "def get_w_opt_regression(X, train_labels_values, gradient, empirical_risk, step_size = 1e-5, iterations = 3000):\n",
    "    N = X.shape[0]\n",
    "    d = X.shape[1]\n",
    "    labels = [1, 2, 3, 4, 5, 6, 7, 8, 9, 10]\n",
    "    quantity_of_labels = len(labels)\n",
    "\n",
    "    y = np.zeros((N, quantity_of_labels))\n",
    "    w = np.zeros((d, quantity_of_labels))\n",
    "    \n",
    "    for i in range(quantity_of_labels):\n",
    "        y_subproblem = get_labeled_array(i+1, train_labels_values)\n",
    "        loss_list_subproblem, w_subproblem = regression(X, y_subproblem, step_size, iterations, gradient, empirical_risk)\n",
    "    \n",
    "        w[:, i:i+1] = w_subproblem\n",
    "        y[:, i:i+1] = y_subproblem\n",
    "    \n",
    "    return w"
   ]
  },
  {
   "cell_type": "code",
   "execution_count": 74,
   "metadata": {},
   "outputs": [
    {
     "name": "stdout",
     "output_type": "stream",
     "text": [
      "Train data shape is  (4363, 264)\n",
      "Train label shape is  (4363, 1)\n",
      "Test data shape is  (6544, 264)\n",
      "Label 1 has 2178 songs\n",
      "Label 2 has 618 songs\n",
      "Label 3 has 326 songs\n",
      "Label 4 has 253 songs\n",
      "Label 5 has 214 songs\n",
      "Label 6 has 260 songs\n",
      "Label 7 has 141 songs\n",
      "Label 8 has 195 songs\n",
      "Label 9 has 92 songs\n",
      "Label 10 has 86 songs\n"
     ]
    }
   ],
   "source": [
    "#### GET DATA\n",
    "df_data = pd.read_csv('train_data.csv', header=None)\n",
    "print(\"Train data shape is \", df_data.shape)\n",
    "\n",
    "df_labels = pd.read_csv('train_labels.csv', header=None)\n",
    "print(\"Train label shape is \", df_labels.shape)\n",
    "\n",
    "df_test_data = pd.read_csv('test_data.csv', header=None)\n",
    "print(\"Test data shape is \", df_test_data.shape)\n",
    "\n",
    "grouped = df_labels.groupby(by=0)\n",
    "for name, group in grouped:\n",
    "    print(\"Label %d has %d songs\" % (name, group.size))"
   ]
  },
  {
   "cell_type": "code",
   "execution_count": 75,
   "metadata": {},
   "outputs": [],
   "source": [
    "#### CLEAN DATA\n",
    "columns_to_remove = [216, 217, 218, 219]\n",
    "df_data = remove_columns(df_data, columns_to_remove)\n",
    "df_test_data = remove_columns(df_test_data, columns_to_remove)\n",
    "\n",
    "train_data, train_labels, val_data, val_labels = get_train_set_splited(df_data, df_labels, test_size = 0.25)"
   ]
  },
  {
   "cell_type": "code",
   "execution_count": 66,
   "metadata": {},
   "outputs": [],
   "source": [
    "#### STANDARDIZATION\n",
    "scaler = StandardScaler()\n",
    "scaler.fit(pd.DataFrame(train_data))\n",
    "X = scaler.transform(pd.DataFrame(train_data))\n",
    "val_data = scaler.transform(pd.DataFrame(val_data))\n",
    "test_data = scaler.transform(df_test_data)"
   ]
  },
  {
   "cell_type": "code",
   "execution_count": 76,
   "metadata": {},
   "outputs": [],
   "source": [
    "#### NORMALIZATION\n",
    "scaler = MinMaxScaler()\n",
    "\n",
    "df_train_data = pd.DataFrame(train_data)\n",
    "\n",
    "scaler.fit(df_train_data)\n",
    "\n",
    "X = scaler.transform(df_train_data)\n",
    "val_data = scaler.transform(pd.DataFrame(val_data))\n",
    "test_data = scaler.transform(df_test_data)"
   ]
  },
  {
   "cell_type": "code",
   "execution_count": 77,
   "metadata": {},
   "outputs": [],
   "source": [
    "#### APPLY PCA\n",
    "number_of_pca_components = 200\n",
    "\n",
    "pca, eigenvalues = get_pca(X, number_of_pca_components)\n",
    "X = np.dot(X, pca.transpose())\n",
    "val_data = np.dot(val_data, pca.transpose())\n",
    "test_data = np.dot(test_data, pca.transpose())"
   ]
  },
  {
   "cell_type": "code",
   "execution_count": 19,
   "metadata": {},
   "outputs": [
    {
     "name": "stdout",
     "output_type": "stream",
     "text": [
      "[[-1.40659630e-01  4.30163246e-02  5.06849392e-03 ...  7.44957102e-04\n",
      "   4.65091405e-03  4.23378984e-03]\n",
      " [-2.68428899e-01  1.86725223e-02  9.36401233e-02 ...  6.48026491e-03\n",
      "   1.35259099e-02 -1.23490342e-04]\n",
      " [ 5.48179762e-02 -7.85127912e-02 -6.78170089e-02 ...  3.52144916e-02\n",
      "  -1.11111140e-02  3.27232204e-03]\n",
      " ...\n",
      " [-2.86249047e-01  7.44024418e-02  1.21760913e-01 ...  5.55494560e-03\n",
      "   3.27025587e-02  5.48743446e-02]\n",
      " [ 2.29847676e-01 -1.65868455e-01 -6.65240307e-02 ...  1.77454854e-02\n",
      "  -8.34977235e-03 -6.68086058e-03]\n",
      " [-5.34223523e-02  1.62402749e-01 -1.93307929e-01 ... -7.51268355e-02\n",
      "  -9.01203051e-03  1.82770904e-03]]\n"
     ]
    }
   ],
   "source": [
    "#### RUN LOGISTIC REGRESSION\n",
    "w_opt = get_w_opt_regression(X, train_labels, gradient_logistic_regression, empirical_risk_logistic_regression,\n",
    "                             step_size = 0.1, iterations = 3000)\n",
    "\n",
    "probabilities = predicted_probabilities_logistic_regresion(val_data, w_opt)\n",
    "predicted_labels = get_predicted_labels(probabilities)\n",
    "accuracy = calculate_accuracy(val_labels, predicted_labels)\n",
    "# log_loss_accuracy = calculate_log_loss_accuracy(val_labels, probabilities)\n",
    "\n",
    "print(\"Accuracy of logistic regression is \", accuracy)\n",
    "# print(\"Log loss of logistic regression is \", log_loss_accuracy)"
   ]
  },
  {
   "cell_type": "code",
   "execution_count": 78,
   "metadata": {},
   "outputs": [],
   "source": [
    "#### RUN LINEAR REGRESSION\n",
    "w_opt = get_w_opt_regression(X, train_labels, gradient_linear_regression, empirical_risk_linear_regression,\n",
    "                             step_size = 0.01, iterations = 10000)\n",
    "\n",
    "probabilities = np.dot(val_data, w_opt)\n",
    "predicted_labels = get_predicted_labels(probabilities)\n",
    "accuracy = calculate_accuracy(val_labels, predicted_labels)\n",
    "# log_loss_accuracy = calculate_log_loss_accuracy(val_labels, probabilities)\n",
    "\n",
    "print(\"Accuracy of linear regression is \", accuracy)\n",
    "# print(\"Log loss of linear regression is \", log_loss_accuracy)"
   ]
  },
  {
   "cell_type": "code",
   "execution_count": 20,
   "metadata": {},
   "outputs": [],
   "source": [
    "#### PROBABILITIES FOR LOGISTIC REGRESSION\n",
    "test_probabilities = predicted_probabilities_logistic_regresion(test_data, w_opt)"
   ]
  },
  {
   "cell_type": "code",
   "execution_count": 81,
   "metadata": {},
   "outputs": [],
   "source": [
    "#### PROBABILITIES FOR LINEAR REGRESSION\n",
    "test_probabilities = np.dot(test_data, w_opt)"
   ]
  },
  {
   "cell_type": "code",
   "execution_count": 82,
   "metadata": {},
   "outputs": [],
   "source": [
    "#### GETTING PREDICTED LABELS FOR TEST DATA\n",
    "predicted_test_labels = get_predicted_labels(test_probabilities).astype(int)\n",
    "\n",
    "\n",
    "#### FILE FOR ACCURACY CHALLENGE\n",
    "ids = np.arange(1, len(predicted_test_labels) + 1)\n",
    "df_submission_accuracy = pd.DataFrame({\"Sample_id\" : ids, \"Sample_label\" : predicted_test_labels.flatten()})\n",
    "df_submission_accuracy.to_csv(\"accuracy_challenge.csv\", index=False)\n",
    "\n",
    "#### FILE FOR LOGLOSS CHALLENGE\n",
    "ids = np.arange(1, len(predicted_test_labels) + 1)\n",
    "df_submission_logloss = pd.DataFrame(\n",
    "    {\n",
    "        \"Sample_id\": ids,\n",
    "        \"Class_1\": test_probabilities[:,0],\n",
    "        \"Class_2\": test_probabilities[:,1],\n",
    "        \"Class_3\": test_probabilities[:,2],\n",
    "        \"Class_4\": test_probabilities[:,3],\n",
    "        \"Class_5\": test_probabilities[:,4],\n",
    "        \"Class_6\": test_probabilities[:,5],\n",
    "        \"Class_7\": test_probabilities[:,6],\n",
    "        \"Class_8\": test_probabilities[:,7],\n",
    "        \"Class_9\": test_probabilities[:,8],\n",
    "        \"Class_10\": test_probabilities[:,9]\n",
    "    }\n",
    ")\n",
    "df_submission_logloss.to_csv(\"logloss_challenge.csv\", index=False)"
   ]
  },
  {
   "cell_type": "code",
   "execution_count": null,
   "metadata": {
    "colab": {},
    "colab_type": "code",
    "id": "Art--2EdSCDd"
   },
   "outputs": [],
   "source": [
    "# Load the data and cleanup\n"
   ]
  },
  {
   "cell_type": "code",
   "execution_count": null,
   "metadata": {
    "colab": {},
    "colab_type": "code",
    "id": "YEbeuIcXSCDk"
   },
   "outputs": [],
   "source": [
    "#Analysis of the input data\n",
    "# ..."
   ]
  },
  {
   "cell_type": "markdown",
   "metadata": {
    "colab_type": "text",
    "id": "QsRZ-tN9SCDz"
   },
   "source": [
    "## 3. Methods and experiments"
   ]
  },
  {
   "cell_type": "markdown",
   "metadata": {
    "colab_type": "text",
    "id": "ITRuOKdFSCD2"
   },
   "source": [
    "*- Explain your whole approach (you can include a block diagram showing the steps in your process).* \n",
    "\n",
    "*- What methods/algorithms, why were the methods chosen. *\n",
    "\n",
    "*- What evaluation methodology (cross CV, etc.).*\n",
    "\n"
   ]
  },
  {
   "cell_type": "code",
   "execution_count": null,
   "metadata": {
    "colab": {},
    "colab_type": "code",
    "id": "R-leqh_2SCD5"
   },
   "outputs": [],
   "source": [
    "# Trials with ML algorithms"
   ]
  },
  {
   "cell_type": "markdown",
   "metadata": {
    "colab_type": "text",
    "id": "JKHi-91nSCEE"
   },
   "source": [
    "## 4. Results"
   ]
  },
  {
   "cell_type": "markdown",
   "metadata": {
    "colab_type": "text",
    "id": "RMP5oHYKSCEH"
   },
   "source": [
    "*Summarize the results of the experiments without discussing their implications.*\n",
    "\n",
    "*- Include both performance measures (accuracy and LogLoss).*\n",
    "\n",
    "*- How does it perform on kaggle compared to the train data.*\n",
    "\n",
    "*- Include a confusion matrix.*\n",
    "\n"
   ]
  },
  {
   "cell_type": "code",
   "execution_count": null,
   "metadata": {
    "colab": {},
    "colab_type": "code",
    "id": "hP8qiraXSCEJ"
   },
   "outputs": [],
   "source": [
    "#Confusion matrix ..."
   ]
  },
  {
   "cell_type": "markdown",
   "metadata": {
    "colab_type": "text",
    "id": "-HuLIEE3SCEU"
   },
   "source": [
    "## 5. Discussion/Conclusions"
   ]
  },
  {
   "cell_type": "markdown",
   "metadata": {
    "colab_type": "text",
    "id": "RoA-rNvqSCEX"
   },
   "source": [
    "*Interpret and explain your results *\n",
    "\n",
    "*- Discuss the relevance of the performance measures (accuracy and LogLoss) for\n",
    "imbalanced multiclass datasets. *\n",
    "\n",
    "*- How the results relate to the literature. *\n",
    "\n",
    "*- Suggestions for future research/improvement. *\n",
    "\n",
    "*- Did the study answer your questions? *\n",
    "\n"
   ]
  },
  {
   "cell_type": "markdown",
   "metadata": {
    "colab_type": "text",
    "id": "qjXr5wvjSCEa"
   },
   "source": [
    "## 6. References"
   ]
  },
  {
   "cell_type": "markdown",
   "metadata": {
    "colab_type": "text",
    "id": "7WCuEQcQSCEd"
   },
   "source": [
    "*List of all the references cited in the document*"
   ]
  },
  {
   "cell_type": "markdown",
   "metadata": {
    "colab_type": "text",
    "id": "rYsmDQWZSCEi"
   },
   "source": [
    "## Appendix\n",
    "*Any additional material needed to complete the report can be included here. For example, if you want to keep  additional source code, additional images or plots, mathematical derivations, etc. The content should be relevant to the report and should help explain or visualize something mentioned earlier. **You can remove the whole Appendix section if there is no need for it.** *"
   ]
  },
  {
   "cell_type": "code",
   "execution_count": null,
   "metadata": {
    "colab": {},
    "colab_type": "code",
    "id": "XmWZcjFLTVKq"
   },
   "outputs": [],
   "source": []
  }
 ],
 "metadata": {
  "accelerator": "GPU",
  "colab": {
   "collapsed_sections": [],
   "name": "MLBP2018 Project Report Template.ipynb",
   "provenance": [],
   "version": "0.3.2"
  },
  "kernelspec": {
   "display_name": "Python 3",
   "language": "python",
   "name": "python3"
  },
  "language_info": {
   "codemirror_mode": {
    "name": "ipython",
    "version": 3
   },
   "file_extension": ".py",
   "mimetype": "text/x-python",
   "name": "python",
   "nbconvert_exporter": "python",
   "pygments_lexer": "ipython3",
   "version": "3.6.5"
  }
 },
 "nbformat": 4,
 "nbformat_minor": 1
}
